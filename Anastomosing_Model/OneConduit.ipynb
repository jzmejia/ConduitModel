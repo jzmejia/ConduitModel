{
 "cells": [
  {
   "cell_type": "code",
   "execution_count": 1,
   "metadata": {
    "collapsed": false
   },
   "outputs": [
    {
     "name": "stdout",
     "output_type": "stream",
     "text": [
      "Using matplotlib backend: MacOSX\n",
      "Populating the interactive namespace from numpy and matplotlib\n"
     ]
    }
   ],
   "source": [
    "%pylab\n",
    "from scipy.integrate import odeint\n",
    "from scipy.optimize import brentq\n",
    "import math"
   ]
  },
  {
   "cell_type": "code",
   "execution_count": 2,
   "metadata": {
    "collapsed": true
   },
   "outputs": [],
   "source": [
    "# One conduit constriction model\n",
    "# Constants - unchanging\n",
    "rho_w = 1000.#density of water, kg/m^3\n",
    "rho_i = 900#density of ice, kg/m^3\n",
    "L_f = 3.34e5#Latent heat of fusion (ice), J/kg\n",
    "n=3.#ice flow law exponent, unitless\n",
    "B=5.8e7#Arrhenius parameter, N/m^2 *s^(1/n)\n",
    "f=0.1#Darcy-Weisbach friction factor, unitless\n",
    "g = 9.8#gravitational accel, m^2/s\n",
    "P = 24.*3600. # Period - 1 day in seconds"
   ]
  },
  {
   "cell_type": "code",
   "execution_count": 3,
   "metadata": {
    "collapsed": false
   },
   "outputs": [],
   "source": [
    "# Functions\n",
    "def R(ti,Ri):\n",
    "    P=24.*3600.\n",
    "    return Ri*(1.+sin(2.*pi*ti/P)/2.)\n",
    "\n",
    "def P_wet(A):\n",
    "    return 2.*sqrt(pi*A)#2.*A**2./pi\n",
    "def D_H(A):\n",
    "    return 4.*A/P_wet(A)\n",
    "def C(A,L):\n",
    "    return A*sqrt(2.*g/(1+f*L/D_H(A)))\n",
    "# For a single conduit\n",
    "def Qh(hi,A):\n",
    "    return A*sqrt(2.*g*abs(hi)/(1+f*Li/D_H(A)))*sign(hi)\n",
    "def dy_dt1(y,t,Ri,Zi):\n",
    "    Pi = rho_i*g*Zi\n",
    "    hi = y[0]\n",
    "    Ai = y[1]\n",
    "    hout = 0\n",
    "    Q1 = Qh(hi-hout,Ai)\n",
    "    dh_dt = (Ri - Q1)/A_R\n",
    "    Pw = rho_w*g*hi\n",
    "    dA_dt = f*rho_w/(8*rho_i*L_f)*P_wet(Ai)*(Q1/Ai)**3 - 2.*(1./(n*B))**n*Ai*(Pi-Pw)*abs(Pi-Pw)**(n-1.)\n",
    "    return [dh_dt,dA_dt]\n",
    "\n",
    "def num_subplots(n):\n",
    "    if n <= 4:\n",
    "        i=n;j=1\n",
    "    elif n <=8:\n",
    "        i=2;j=4\n",
    "    elif n <=12:\n",
    "        i=3;j=4\n",
    "    elif n <=16:\n",
    "        i=4;j=4\n",
    "    elif n <=20:\n",
    "        i=5;j=4\n",
    "    elif n <=24:\n",
    "        i=6;j=4\n",
    "    else:\n",
    "        print 'Number of subplots too large'\n",
    "    return(i,j)\n",
    "\n",
    "def det_idx(k):\n",
    "    if k <= 3:\n",
    "        i=0;j=k\n",
    "    elif k <= 7:\n",
    "        i=1;j=k-4\n",
    "    elif k <= 11:\n",
    "        i=2;j=k-8\n",
    "    elif k <= 15:\n",
    "        i=3;j=k-12\n",
    "    elif k <= 19:\n",
    "        i=4;j=k-16\n",
    "    elif k <= 23:\n",
    "        i=5;j=k-20\n",
    "    else:\n",
    "        print 'Number of Plots is too large'\n",
    "    return(i,j)"
   ]
  },
  {
   "cell_type": "code",
   "execution_count": 18,
   "metadata": {
    "collapsed": false
   },
   "outputs": [
    {
     "name": "stdout",
     "output_type": "stream",
     "text": [
      "2 4\n"
     ]
    }
   ],
   "source": [
    "# Investigating: minimum hydraulic diameter neccessary\n",
    "# Changing:\n",
    "\n",
    "\n",
    "# plots for one conduit model\n",
    "Li = 5000.\n",
    "# Ai = \n",
    "Ai = linspace(0.01,1,num=10) # Initial cross sectional area\n",
    "# A_min=0.1\n",
    "hi = 300.\n",
    "Ri = 0.8\n",
    "\n",
    "\n",
    "A_R= 50# Moulin cross sectional area\n",
    "Z=500 # Ice thickness\n",
    "\n",
    "# Run model with above specification\n",
    "nhours = 500\n",
    "nsecs = nhours*60*60\n",
    "t = linspace(0,nsecs,500)\n",
    "tplot=t/3600.\n",
    "\n",
    "\n",
    "# find the minimum A0 that is physically possible\n",
    "sol1_list = []\n",
    "A_list = []\n",
    "R_list = []\n",
    "\n",
    "\n",
    "for A in Ai:\n",
    "    sol_test = odeint(dy_dt1,[hi,A],t,args=(R,Z))\n",
    "    sol1_list.append(sol_test)\n",
    "    if max(sol_test[:,0]) < Z:\n",
    "        A_list.append(A)\n",
    "#             print R, A\n",
    "# print A_list\n",
    "# print len(A_list)\n",
    "# A_min = min(Amin_list)\n",
    "\n",
    "#change it to plot everything instead of the min\n",
    "\n",
    "\n",
    "i,j=num_subplots(len(A_list))\n",
    "print i,j\n",
    "fig, axs=subplots(nrows=i,ncols=j)\n",
    "fig.set_tight_layout(True)\n",
    "\n",
    "\n",
    "sol=[]\n",
    "k=0\n",
    "if len(A_list) <= 4:\n",
    "    for A in A_list:\n",
    "        sol=odeint(dy_dt1, [hi,A], t, args=(Ri,Z))\n",
    "        ax=axs[k]\n",
    "        ax2 = ax.twinx()\n",
    "        ax.plot(tplot,sol[:,0])\n",
    "        Rec1 = Ri*(1.+sin(2.*pi*t/P)/2.)\n",
    "        ax2.plot(tplot,Rec1,'k--')\n",
    "#         ax.set_xlabel(\"Time (hours)\")\n",
    "        ax.set_title(\"A=\"+str(A))\n",
    "#         ax.set_ylabel(\"Moulin Head\")\n",
    "#         ax2.set_ylabel(\"Recharge\")\n",
    "        k=k+1\n",
    "else:\n",
    "    for A in A_list:\n",
    "        sol=odeint(dy_dt1, [hi,A], t, args=(Ri,Z))\n",
    "        idx1,idx2 = det_idx(k)\n",
    "        \n",
    "        ax=axs[idx1,idx2]\n",
    "        ax2 = ax.twinx()\n",
    "        ax.plot(tplot,sol[:,0])\n",
    "        Rec1 = Ri*(1.+sin(2.*pi*t/P)/2.)\n",
    "        k=k+1\n",
    "        ax2.plot(tplot,Rec1,'k--')\n",
    "#         ax.set_xlabel(\"Time (hours)\")\n",
    "        ax.set_title(\"A=\"+str(A))\n",
    "#         ax.set_ylabel(\"Moulin Head\")\n",
    "#         ax2.set_ylabel(\"Recharge\")\n",
    "\n",
    "\n",
    "\n",
    "\n",
    "# # print model run specifications\n",
    "# print 'Single Conduit Model'\n",
    "# print 'Max Head =',max(sol1[:,0]), 'Min Head =',min(sol1[:,0])\n",
    "# print 'Minimum starting A_c =',A_min,'Equilibrium A_c =',sol1[-1,1]\n",
    "# print 'Average Recharge =',Ri,'Moulin Area =',A_R,'Ice thickness =',Z\n",
    "# # Plotting above version of the model\n",
    "# tplot=t/3600.\n",
    "# fig, ax1 = subplots()\n",
    "# ax2 = ax1.twinx()\n",
    "# ax1.plot(tplot,sol1[:,0])\n",
    "# ax2.plot(tplot,Rec1,'k--')\n",
    "# ax1.set_xlabel(\"Time (hours)\")\n",
    "# ax1.set_ylabel(\"Moulin Head ($m$)\")\n",
    "# ax2.set_ylabel(\"Recharge ($m^3/s$)\")\n",
    "# # A_c\n",
    "# figure()\n",
    "# plot(tplot,sol1[:,1])\n",
    "# xlabel(\"Time (hours)\")\n",
    "# ylabel(\"Cross-sectional Area ($m^2$)\")\n",
    "\n",
    "\n",
    "# %xdel sol1"
   ]
  },
  {
   "cell_type": "code",
   "execution_count": 7,
   "metadata": {
    "collapsed": false
   },
   "outputs": [
    {
     "data": {
      "text/plain": [
       "8"
      ]
     },
     "execution_count": 7,
     "metadata": {},
     "output_type": "execute_result"
    }
   ],
   "source": [
    "len(A_list)"
   ]
  },
  {
   "cell_type": "code",
   "execution_count": 8,
   "metadata": {
    "collapsed": false
   },
   "outputs": [
    {
     "data": {
      "text/plain": [
       "[0.23000000000000001,\n",
       " 0.34000000000000002,\n",
       " 0.45000000000000001,\n",
       " 0.56000000000000005,\n",
       " 0.67000000000000004,\n",
       " 0.78000000000000003,\n",
       " 0.89000000000000001,\n",
       " 1.0]"
      ]
     },
     "execution_count": 8,
     "metadata": {},
     "output_type": "execute_result"
    }
   ],
   "source": [
    "A_list"
   ]
  },
  {
   "cell_type": "code",
   "execution_count": null,
   "metadata": {
    "collapsed": false
   },
   "outputs": [],
   "source": []
  },
  {
   "cell_type": "code",
   "execution_count": null,
   "metadata": {
    "collapsed": false
   },
   "outputs": [],
   "source": []
  },
  {
   "cell_type": "code",
   "execution_count": null,
   "metadata": {
    "collapsed": false
   },
   "outputs": [],
   "source": []
  },
  {
   "cell_type": "code",
   "execution_count": null,
   "metadata": {
    "collapsed": true
   },
   "outputs": [],
   "source": []
  },
  {
   "cell_type": "code",
   "execution_count": null,
   "metadata": {
    "collapsed": false
   },
   "outputs": [],
   "source": [
    "fig, ax1 = subplots()\n",
    "ax2 = ax1.twinx()\n",
    "ax1.plot(tplot,sol1[:,0])\n",
    "ax2.plot(tplot,Rec1,'k--')\n",
    "ax1.set_xlabel(\"Time (hours)\")\n",
    "ax1.set_ylabel(\"Moulin Head ($m$)\")\n",
    "ax2.set_ylabel(\"Recharge ($m^3/s$)\")"
   ]
  },
  {
   "cell_type": "code",
   "execution_count": null,
   "metadata": {
    "collapsed": false
   },
   "outputs": [],
   "source": [
    "x=1; y=2"
   ]
  },
  {
   "cell_type": "code",
   "execution_count": null,
   "metadata": {
    "collapsed": false
   },
   "outputs": [],
   "source": [
    "y"
   ]
  },
  {
   "cell_type": "code",
   "execution_count": null,
   "metadata": {
    "collapsed": false
   },
   "outputs": [],
   "source": [
    "len(Amin_list)"
   ]
  },
  {
   "cell_type": "code",
   "execution_count": null,
   "metadata": {
    "collapsed": false
   },
   "outputs": [],
   "source": [
    "j"
   ]
  },
  {
   "cell_type": "code",
   "execution_count": null,
   "metadata": {
    "collapsed": true
   },
   "outputs": [],
   "source": []
  },
  {
   "cell_type": "code",
   "execution_count": null,
   "metadata": {
    "collapsed": true
   },
   "outputs": [],
   "source": []
  }
 ],
 "metadata": {
  "kernelspec": {
   "display_name": "Python 2",
   "language": "python",
   "name": "python2"
  },
  "language_info": {
   "codemirror_mode": {
    "name": "ipython",
    "version": 2
   },
   "file_extension": ".py",
   "mimetype": "text/x-python",
   "name": "python",
   "nbconvert_exporter": "python",
   "pygments_lexer": "ipython2",
   "version": "2.7.13"
  }
 },
 "nbformat": 4,
 "nbformat_minor": 2
}
